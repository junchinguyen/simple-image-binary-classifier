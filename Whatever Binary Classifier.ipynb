{
 "cells": [
  {
   "cell_type": "code",
   "execution_count": 1,
   "id": "66c73f36-a3ea-4527-9fde-933835d26e38",
   "metadata": {},
   "outputs": [],
   "source": [
    "import pandas as pd\n",
    "import numpy as np\n",
    "import matplotlib.pyplot as plt\n",
    "import scipy\n",
    "import os\n",
    "import copy\n",
    "from PIL import Image\n",
    "from scipy import ndimage\n",
    "np.random.seed(0)"
   ]
  },
  {
   "cell_type": "code",
   "execution_count": 2,
   "id": "cc0ec6da-04e6-4691-8df8-3e0e1cf2d781",
   "metadata": {},
   "outputs": [],
   "source": [
    "num_px = 64"
   ]
  },
  {
   "cell_type": "code",
   "execution_count": 3,
   "id": "bf04c292-4ddc-4185-8b76-0e1b773a3b80",
   "metadata": {},
   "outputs": [],
   "source": [
    "X_train = np.empty((num_px*num_px*3,0))\n",
    "X_test = np.empty((num_px*num_px*3,0))"
   ]
  },
  {
   "cell_type": "code",
   "execution_count": 4,
   "id": "9e3f7532-e851-4be4-ba0c-f26125ba99c1",
   "metadata": {},
   "outputs": [],
   "source": [
    "folder_path = \"...\"\n",
    "for filename in os.listdir(folder_path):\n",
    "    file_path = os.path.join(folder_path,filename)\n",
    "    if filename.endswith(('.jpg', '.png', '.jpeg', '.bmp', '.tiff')):\n",
    "        img_array = np.array(Image.open(file_path).resize((num_px,num_px)))\n",
    "        img_array = img_array/255\n",
    "        img_array = img_array.reshape((num_px*num_px*3,1))\n",
    "        X_train = np.column_stack((X_train,img_array))\n",
    "\n",
    "folder_path = \"...\"\n",
    "for filename in os.listdir(folder_path):\n",
    "    file_path = os.path.join(folder_path,filename)\n",
    "    if filename.endswith(('.jpg', '.png', '.jpeg', '.bmp', '.tiff')):\n",
    "        img_array = np.array(Image.open(file_path).resize((num_px,num_px)))\n",
    "        img_array = img_array/255\n",
    "        img_array = img_array.reshape((num_px*num_px*3,1))\n",
    "        X_test = np.column_stack((X_test,img_array))"
   ]
  },
  {
   "cell_type": "code",
   "execution_count": 5,
   "id": "099f57dc-da78-42e8-8fee-970abfec081a",
   "metadata": {},
   "outputs": [
    {
     "name": "stdout",
     "output_type": "stream",
     "text": [
      "(12288, 99)\n",
      "(1, 99)\n",
      "(12288, 137)\n",
      "(1, 137)\n"
     ]
    }
   ],
   "source": [
    "print(X_train.shape)\n",
    "Y_train = np.ones((1, X_train.shape[1]))\n",
    "print(Y_train.shape)\n",
    "\n",
    "print(X_test.shape)\n",
    "Y_test = np.zeros((1, X_test.shape[1]))\n",
    "print(Y_test.shape)"
   ]
  },
  {
   "cell_type": "markdown",
   "id": "5969567b-b650-4d21-9d0b-d58ab202f45f",
   "metadata": {},
   "source": [
    "# Building the neural network"
   ]
  },
  {
   "cell_type": "code",
   "execution_count": 6,
   "id": "7a02636c-9e23-462e-a576-fe034c1fe986",
   "metadata": {},
   "outputs": [],
   "source": [
    "def sigmoid(Z):\n",
    "    A = 1/(1+np.exp(-Z))\n",
    "    cache = Z \n",
    "    return A, cache\n",
    "\n",
    "def relu(Z):\n",
    "    A = np.maximum(0,Z)\n",
    "    cache = Z \n",
    "    return A, cache"
   ]
  },
  {
   "cell_type": "code",
   "execution_count": 7,
   "id": "e663db23-e49d-4894-b9af-7a09ec3938ec",
   "metadata": {},
   "outputs": [],
   "source": [
    "def init_params(layer_dims):\n",
    "    np.random.seed(0)\n",
    "    parameters = {}\n",
    "    L = len(layer_dims)\n",
    "\n",
    "    for l in range(1,L):\n",
    "        parameters['W'+str(l)] = np.random.randn(layer_dims[l],layer_dims[l-1]) * 0.01\n",
    "        parameters['b'+str(l)] = np.zeros((layer_dims[l],1))\n",
    "\n",
    "    return parameters"
   ]
  },
  {
   "cell_type": "code",
   "execution_count": 8,
   "id": "939d8c6a-24d5-41dd-9872-bf9f315e335a",
   "metadata": {},
   "outputs": [],
   "source": [
    "def linear_forward(A, W, b):\n",
    "    Z = np.dot(W,A)+b\n",
    "    cache = (A,W,b)\n",
    "    return Z, cache"
   ]
  },
  {
   "cell_type": "code",
   "execution_count": 9,
   "id": "099fee24-8ebb-48be-b353-0743b95f727c",
   "metadata": {},
   "outputs": [],
   "source": [
    "def linear_activation_forward(A_prev, W, b, activation):\n",
    "    if activation == 'sigmoid':\n",
    "        Z, linear_cache = linear_forward(A_prev, W, b)\n",
    "        A, activation_cache = sigmoid(Z)\n",
    "    if activation == 'relu':\n",
    "        Z, linear_cache = linear_forward(A_prev, W, b)\n",
    "        A, activation_cache = relu(Z)\n",
    "    cache = (linear_cache, activation_cache)\n",
    "    # print('z'+str(activation_cache.shape))\n",
    "    return A, cache"
   ]
  },
  {
   "cell_type": "code",
   "execution_count": 10,
   "id": "9fb94a34-7d15-4128-9d6e-5fc1cebdacbc",
   "metadata": {},
   "outputs": [],
   "source": [
    "def L_model_forward(X, parameters):\n",
    "    caches = []\n",
    "    A = X\n",
    "    L = len(parameters) // 2\n",
    "    for l in range(1,L):\n",
    "        A_prev = A\n",
    "        A, cache = linear_activation_forward(A_prev, parameters['W'+str(l)], parameters['b'+str(l)], activation = 'relu')\n",
    "        caches.append(cache)\n",
    "    AL, cache = linear_activation_forward(A, parameters['W'+str(L)], parameters['b'+str(L)], activation = 'sigmoid')\n",
    "    caches.append(cache)\n",
    "    return AL, caches"
   ]
  },
  {
   "cell_type": "code",
   "execution_count": 11,
   "id": "d4625c8b-cdd1-4462-8f33-bbb9783684ef",
   "metadata": {},
   "outputs": [],
   "source": [
    "def compute_cost(AL,Y):\n",
    "    m = Y.shape[1]\n",
    "    cost = (-1/m)*np.sum((Y*np.log(AL))+(1-Y)*(np.log(1-AL)))\n",
    "    cost = np.squeeze(cost)\n",
    "    return cost"
   ]
  },
  {
   "cell_type": "code",
   "execution_count": 12,
   "id": "88d1086e-4f9b-42e3-854e-60dbc0d52f4c",
   "metadata": {},
   "outputs": [],
   "source": [
    "def linear_backward(dZ,cache):\n",
    "    A_prev, W, b = cache\n",
    "    m = A_prev.shape[1]\n",
    "    # print(f\"Shape of W: {W.shape}\")\n",
    "    # print(f\"Shape of W.T: {W.T.shape}\")\n",
    "    # print(f\"Shape of dZ: {dZ.shape}\")\n",
    "    dW = (1/m)*np.dot(dZ, A_prev.T)\n",
    "    db = (1/m)*np.sum(dZ, axis = 1, keepdims = True)\n",
    "    dA_prev = np.dot(W.T, dZ)\n",
    "    return dA_prev, dW, db"
   ]
  },
  {
   "cell_type": "code",
   "execution_count": 13,
   "id": "bf7d3952-5a79-4ac2-aa12-64e48f5e269b",
   "metadata": {},
   "outputs": [],
   "source": [
    "def relu_backward(dA, cache):\n",
    "    Z = cache  # Z comes from the activation cache\n",
    "    # Ensure that dA and Z have the same shape\n",
    "    dZ = np.array(dA, copy=True)  # Just converting dA to a correct object.\n",
    "    \n",
    "    # Apply the ReLU derivative: When Z <= 0, set dZ to 0\n",
    "    dZ[Z <= 0] = 0  # This works element-wise when Z and dZ have the same shape\n",
    "    \n",
    "    return dZ\n",
    "\n",
    "\n",
    "\n",
    "def sigmoid_backward(dA, cache):\n",
    "    Z = cache\n",
    "    s = 1/(1+np.exp(-Z))\n",
    "    dZ = dA * s * (1-s)    \n",
    "    return dZ\n",
    "\n"
   ]
  },
  {
   "cell_type": "code",
   "execution_count": 14,
   "id": "63da6aea-5f33-4882-94fa-c2e9cb2d81dc",
   "metadata": {},
   "outputs": [],
   "source": [
    "def linear_activation_backward(dA, cache, activation):\n",
    "    linear_cache, activation_cache = cache\n",
    "    if activation == 'relu':\n",
    "        dZ = relu_backward(dA, activation_cache)\n",
    "        dA_prev, dW, db = linear_backward(dZ, linear_cache)\n",
    "    if activation == 'sigmoid':\n",
    "        dZ = sigmoid_backward(dA, activation_cache)\n",
    "        dA_prev, dW, db = linear_backward(dZ, linear_cache)\n",
    "    return dA_prev, dW, db"
   ]
  },
  {
   "cell_type": "code",
   "execution_count": 15,
   "id": "1e205e9f-f5d1-4c27-9395-213d1ad8eee1",
   "metadata": {},
   "outputs": [],
   "source": [
    "def L_model_backward(AL, Y, caches):\n",
    "    grads = {}\n",
    "    L = len(caches) # the number of layers\n",
    "    m = AL.shape[1]\n",
    "    Y = Y.reshape(AL.shape) # after this line, Y is the same shape as AL\n",
    "    \n",
    "    # Initializing the backpropagation\n",
    "    dAL = - (np.divide(Y, AL) - np.divide(1 - Y, 1 - AL))\n",
    "\n",
    "    current_cache = caches[L-1]\n",
    "    dA_prev_temp, dW_temp, db_temp = linear_activation_backward(dAL, current_cache, activation='sigmoid')\n",
    "    grads['dA' + str(L-1)] = dA_prev_temp\n",
    "    grads['dW' + str(L)] = dW_temp\n",
    "    grads['db' + str(L)] = db_temp\n",
    "    \n",
    "    # Loop from l=L-2 to l=0\n",
    "    for l in reversed(range(L-1)):\n",
    "        current_cache = caches[l]\n",
    "        dA_prev_temp, dW_temp, db_temp = linear_activation_backward(grads['dA' + str(l+1)], current_cache, activation = 'relu')\n",
    "        grads[\"dA\" + str(l)] = dA_prev_temp\n",
    "        grads[\"dW\" + str(l + 1)] = dW_temp\n",
    "        grads[\"db\" + str(l + 1)] = db_temp\n",
    "\n",
    "    return grads"
   ]
  },
  {
   "cell_type": "code",
   "execution_count": 16,
   "id": "c88a74f7-7470-4676-a3e9-0660b2d1b236",
   "metadata": {},
   "outputs": [],
   "source": [
    "def update_parameters(params, grads, learning_rate):\n",
    "    parameters = copy.deepcopy(params)\n",
    "    L = len(parameters) // 2\n",
    "\n",
    "    for l in range(L):\n",
    "        parameters['W'+str(l+1)] = parameters['W'+str(l+1)] - learning_rate*grads['dW'+str(l+1)]\n",
    "        parameters['b'+str(l+1)] = parameters['b'+str(l+1)] - learning_rate*grads['db'+str(l+1)]\n",
    "    return parameters"
   ]
  },
  {
   "cell_type": "code",
   "execution_count": 17,
   "id": "4d075081-c6c8-49ee-8d01-12ac8ab745ca",
   "metadata": {},
   "outputs": [],
   "source": [
    "layers_dims = [12288,5,1]"
   ]
  },
  {
   "cell_type": "code",
   "execution_count": 18,
   "id": "df1560a6-2901-455e-ad44-37646c1be048",
   "metadata": {},
   "outputs": [],
   "source": [
    "def L_layer_model(X, Y, layers_dims, learning_rate=0.0075, num_iterations=100, print_cost=False):\n",
    "    np.random.seed(1)\n",
    "    costs = []\n",
    "    parameters = init_params(layers_dims)\n",
    "    for i in range(0, num_iterations):\n",
    "        AL, caches = L_model_forward(X, parameters)\n",
    "        cost = compute_cost(AL,Y)\n",
    "        grads = L_model_backward(AL, Y, caches)\n",
    "        parameters = update_parameters(parameters, grads, learning_rate)\n",
    "\n",
    "        if print_cost and i%100 == 0 or i == num_iterations-1:\n",
    "            print(\"Cost after iteration {}: {}\".format(i, np.squeeze(cost)))\n",
    "        if i % 100 == 0 or i == num_iterations:\n",
    "            costs.append(cost)\n",
    "\n",
    "    return parameters, costs"
   ]
  },
  {
   "cell_type": "code",
   "execution_count": 19,
   "id": "510e0411-8390-4cf7-93ef-606aca4a382d",
   "metadata": {},
   "outputs": [
    {
     "name": "stdout",
     "output_type": "stream",
     "text": [
      "Cost after iteration 0: 0.6890380186561618\n",
      "Cost after iteration 100: 0.014602509781818193\n",
      "Cost after iteration 200: 0.005338524236843249\n",
      "Cost after iteration 300: 0.003163100377594355\n",
      "Cost after iteration 400: 0.0022180550988653886\n",
      "Cost after iteration 500: 0.0016955177823558625\n",
      "Cost after iteration 600: 0.001365955952757102\n",
      "Cost after iteration 700: 0.0011400302069961331\n",
      "Cost after iteration 800: 0.0009759545743408947\n",
      "Cost after iteration 900: 0.0008516447529572126\n",
      "Cost after iteration 999: 0.0007552288245603598\n"
     ]
    }
   ],
   "source": [
    "parameters, costs = L_layer_model(X_train, Y_train, layers_dims, learning_rate=0.005, num_iterations = 1000, print_cost=True)"
   ]
  },
  {
   "cell_type": "code",
   "execution_count": 20,
   "id": "fa1291fe-05cb-4f03-8998-44ac2060c311",
   "metadata": {},
   "outputs": [
    {
     "data": {
      "text/plain": [
       "[<matplotlib.lines.Line2D at 0x1f99771ed20>]"
      ]
     },
     "execution_count": 20,
     "metadata": {},
     "output_type": "execute_result"
    },
    {
     "data": {
      "image/png": "[encoded data removed]",
      "text/plain": [
       "<Figure size 640x480 with 1 Axes>"
      ]
     },
     "metadata": {},
     "output_type": "display_data"
    }
   ],
   "source": [
    "  # Assuming costs is an array of length 100\n",
    "x_values = np.linspace(0, 1000, 10)\n",
    "\n",
    "plt.plot(x_values, costs)"
   ]
  },
  {
   "cell_type": "code",
   "execution_count": 21,
   "id": "2e32f8e3-d963-4756-8fe3-cbdccc433b74",
   "metadata": {},
   "outputs": [],
   "source": [
    "def predict(X, y, parameters):\n",
    "    m = X.shape[1]\n",
    "    n = len(parameters) // 2 # number of layers in the neural network\n",
    "    p = np.zeros((1,m))\n",
    "    \n",
    "    # Forward propagation\n",
    "    probas, caches = L_model_forward(X, parameters)\n",
    "\n",
    "    \n",
    "    # convert probas to 0/1 predictions\n",
    "    for i in range(0, probas.shape[1]):\n",
    "        if probas[0,i] > 0.5:\n",
    "            p[0,i] = 1\n",
    "        else:\n",
    "            p[0,i] = 0\n",
    "    \n",
    "    #print results\n",
    "    print (\"predictions: \" + str(p))\n",
    "    print (\"true labels: \" + str(y))\n",
    "    print(\"Accuracy: \"  + str(np.sum((p == y)/m)))\n",
    "        \n",
    "    return p"
   ]
  },
  {
   "cell_type": "code",
   "execution_count": 22,
   "id": "4be2056e-e38b-42d1-a0a6-2bfbc048b0f9",
   "metadata": {},
   "outputs": [
    {
     "name": "stdout",
     "output_type": "stream",
     "text": [
      "predictions: [[1. 1. 1. 1. 1. 1. 1. 1. 1. 1. 1. 1. 1. 1. 1. 1. 1. 1. 1. 1. 1. 1. 1. 1.\n",
      "  1. 1. 1. 1. 1. 1. 1. 1. 1. 1. 1. 1. 1. 1. 1. 1. 1. 1. 1. 1. 1. 1. 1. 1.\n",
      "  1. 1. 1. 1. 1. 1. 1. 1. 1. 1. 1. 1. 1. 1. 1. 1. 1. 1. 1. 1. 1. 1. 1. 1.\n",
      "  1. 1. 1. 1. 1. 1. 1. 1. 1. 1. 1. 1. 1. 1. 1. 1. 1. 1. 1. 1. 1. 1. 1. 1.\n",
      "  1. 1. 1.]]\n",
      "true labels: [[1. 1. 1. 1. 1. 1. 1. 1. 1. 1. 1. 1. 1. 1. 1. 1. 1. 1. 1. 1. 1. 1. 1. 1.\n",
      "  1. 1. 1. 1. 1. 1. 1. 1. 1. 1. 1. 1. 1. 1. 1. 1. 1. 1. 1. 1. 1. 1. 1. 1.\n",
      "  1. 1. 1. 1. 1. 1. 1. 1. 1. 1. 1. 1. 1. 1. 1. 1. 1. 1. 1. 1. 1. 1. 1. 1.\n",
      "  1. 1. 1. 1. 1. 1. 1. 1. 1. 1. 1. 1. 1. 1. 1. 1. 1. 1. 1. 1. 1. 1. 1. 1.\n",
      "  1. 1. 1.]]\n",
      "Accuracy: 0.9999999999999998\n"
     ]
    }
   ],
   "source": [
    "pred_train = predict(X_train, Y_train, parameters)"
   ]
  },
  {
   "cell_type": "code",
   "execution_count": 23,
   "id": "3dda5969-9953-42c0-b220-dd5d17d65c84",
   "metadata": {},
   "outputs": [
    {
     "name": "stdout",
     "output_type": "stream",
     "text": [
      "predictions: [[1. 1. 1. 1. 1. 1. 1. 1. 1. 1. 1. 1. 1. 1. 1. 1. 1. 1. 1. 1. 1. 1. 1. 1.\n",
      "  1. 1. 1. 1. 1. 1. 1. 1. 1. 1. 1. 1. 1. 1. 1. 1. 1. 1. 1. 1. 1. 1. 1. 1.\n",
      "  1. 1. 1. 1. 1. 1. 1. 1. 1. 1. 1. 1. 1. 1. 1. 1. 1. 1. 1. 1. 1. 1. 1. 1.\n",
      "  1. 1. 1. 1. 1. 1. 1. 1. 1. 1. 1. 1. 1. 1. 1. 1. 1. 1. 1. 1. 1. 1. 1. 1.\n",
      "  1. 1. 1. 1. 1. 1. 1. 1. 1. 1. 1. 1. 1. 1. 1. 1. 1. 1. 1. 1. 1. 1. 1. 1.\n",
      "  1. 1. 1. 1. 1. 1. 1. 1. 1. 1. 1. 1. 1. 1. 1. 1. 1.]]\n",
      "true labels: [[0. 0. 0. 0. 0. 0. 0. 0. 0. 0. 0. 0. 0. 0. 0. 0. 0. 0. 0. 0. 0. 0. 0. 0.\n",
      "  0. 0. 0. 0. 0. 0. 0. 0. 0. 0. 0. 0. 0. 0. 0. 0. 0. 0. 0. 0. 0. 0. 0. 0.\n",
      "  0. 0. 0. 0. 0. 0. 0. 0. 0. 0. 0. 0. 0. 0. 0. 0. 0. 0. 0. 0. 0. 0. 0. 0.\n",
      "  0. 0. 0. 0. 0. 0. 0. 0. 0. 0. 0. 0. 0. 0. 0. 0. 0. 0. 0. 0. 0. 0. 0. 0.\n",
      "  0. 0. 0. 0. 0. 0. 0. 0. 0. 0. 0. 0. 0. 0. 0. 0. 0. 0. 0. 0. 0. 0. 0. 0.\n",
      "  0. 0. 0. 0. 0. 0. 0. 0. 0. 0. 0. 0. 0. 0. 0. 0. 0.]]\n",
      "Accuracy: 0.0\n"
     ]
    }
   ],
   "source": [
    "pred_test = predict(X_test, Y_test, parameters)"
   ]
  },
  {
   "cell_type": "code",
   "execution_count": 24,
   "id": "6e58f84d-08ef-46e5-a10b-339db31ea3d0",
   "metadata": {},
   "outputs": [
    {
     "name": "stdout",
     "output_type": "stream",
     "text": [
      "predictions: [[1.]]\n",
      "true labels: [0]\n",
      "Accuracy: 0.0\n"
     ]
    },
    {
     "data": {
      "image/png": "[encoded data removed]",
      "text/plain": [
       "<Figure size 640x480 with 1 Axes>"
      ]
     },
     "metadata": {},
     "output_type": "display_data"
    }
   ],
   "source": [
    "my_label_y = [0]\n",
    "fname = \"..\"\n",
    "image = np.array(Image.open(fname).resize((num_px, num_px)))\n",
    "plt.imshow(image)\n",
    "image = image / 255.\n",
    "image = image.reshape((1, num_px * num_px * 3)).T\n",
    "\n",
    "my_predicted_image = predict(image, my_label_y, parameters)\n",
    "\n"
   ]
  },
  {
   "cell_type": "code",
   "execution_count": 25,
   "id": "9d967cde-ca69-465e-be3c-f975da902ffd",
   "metadata": {},
   "outputs": [
    {
     "data": {
      "text/plain": [
       "{'W1': array([[ 0.01764545,  0.00400699,  0.0097932 , ...,  0.00509183,\n",
       "         -0.00158245,  0.00691701],\n",
       "        [ 0.00113597,  0.00438143, -0.0003704 , ...,  0.00324184,\n",
       "         -0.00142499, -0.00834714],\n",
       "        [-0.0029651 ,  0.00806401,  0.00864032, ..., -0.01057422,\n",
       "          0.00137733, -0.00181752],\n",
       "        [ 0.00445315, -0.00586503, -0.00336699, ...,  0.0080374 ,\n",
       "         -0.00572747, -0.00247237],\n",
       "        [-0.00136051,  0.00084651,  0.01117479, ..., -0.00433503,\n",
       "          0.00742167, -0.00932612]]),\n",
       " 'b1': array([[1.30418477e-05],\n",
       "        [1.23114023e-02],\n",
       "        [0.00000000e+00],\n",
       "        [3.40475549e-03],\n",
       "        [1.36710682e-04]]),\n",
       " 'W2': array([[ 0.00391784,  0.44679051, -0.00709447,  0.12224685,  0.00763293]]),\n",
       " 'b2': array([[0.09064258]])}"
      ]
     },
     "execution_count": 25,
     "metadata": {},
     "output_type": "execute_result"
    }
   ],
   "source": [
    "parameters"
   ]
  },
  {
   "cell_type": "code",
   "execution_count": null,
   "id": "447606fa-637a-4232-9997-179baf9f975b",
   "metadata": {},
   "outputs": [],
   "source": []
  }
 ],
 "metadata": {
  "kernelspec": {
   "display_name": "Python 3 (ipykernel)",
   "language": "python",
   "name": "python3"
  },
  "language_info": {
   "codemirror_mode": {
    "name": "ipython",
    "version": 3
   },
   "file_extension": ".py",
   "mimetype": "text/x-python",
   "name": "python",
   "nbconvert_exporter": "python",
   "pygments_lexer": "ipython3",
   "version": "3.12.7"
  }
 },
 "nbformat": 4,
 "nbformat_minor": 5
}
